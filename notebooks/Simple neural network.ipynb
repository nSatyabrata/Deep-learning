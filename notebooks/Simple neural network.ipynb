{
 "cells": [
  {
   "cell_type": "code",
   "execution_count": 2,
   "id": "aead93be",
   "metadata": {},
   "outputs": [],
   "source": [
    "import math\n",
    "import numpy as np\n",
    "import matplotlib.pyplot as plt\n",
    "%matplotlib inline"
   ]
  },
  {
   "cell_type": "code",
   "execution_count": 3,
   "id": "31bcdbb5",
   "metadata": {},
   "outputs": [],
   "source": [
    "class Value:\n",
    "    \n",
    "    def __init__(self, data, _childern=(), _op='', label=''):\n",
    "        self.data = data\n",
    "        self.grad = 0.0\n",
    "        self._backward = lambda: None \n",
    "        self._prev = set(_childern)\n",
    "        self._op = _op\n",
    "        self.label = label\n",
    "        \n",
    "    def __repr__(self):\n",
    "        return f\"Value(data={self.data})\"\n",
    "    \n",
    "    def __add__(self, other):\n",
    "        other = other if isinstance(other, Value) else Value(other)\n",
    "        out = Value(self.data + other.data, (self, other), \"+\")\n",
    "        \n",
    "        def _backward():\n",
    "            self.grad += 1.0 * out.grad\n",
    "            other.grad += 1.0 * out.grad\n",
    "        \n",
    "        out._backward = _backward\n",
    "        return out\n",
    "    \n",
    "    def __mul__(self, other):\n",
    "        other = other if isinstance(other, Value) else Value(other)\n",
    "        out = Value(self.data * other.data, (self, other), \"*\")\n",
    "        \n",
    "        def _backward():\n",
    "            self.grad += other.data * out.grad\n",
    "            other.grad += self.data * out.grad\n",
    "            \n",
    "        out._backward = _backward\n",
    "        \n",
    "        return out\n",
    "    \n",
    "    def __pow__(self, other):\n",
    "        assert isinstance(other, (int, float)), \"only supporting int/float powers for now\"\n",
    "        out = Value(self.data**other, (self,), f'**{other}')\n",
    "\n",
    "        def _backward():\n",
    "            self.grad += (other * self.data**(other-1)) * out.grad\n",
    "        out._backward = _backward\n",
    "\n",
    "        return out\n",
    "\n",
    "    def relu(self):\n",
    "        out = Value(0 if self.data < 0 else self.data, (self,), 'ReLU')\n",
    "\n",
    "        def _backward():\n",
    "            self.grad += (out.data > 0) * out.grad\n",
    "        out._backward = _backward\n",
    "\n",
    "        return out\n",
    "    \n",
    "    def tanh(self):\n",
    "        x = self.data\n",
    "        t = (math.exp(2*x) - 1)/(math.exp(2*x) + 1)\n",
    "        out = Value(t, (self,), 'tanh')\n",
    "        \n",
    "        def _backward():\n",
    "            self.grad += (1 - t**2) * out.grad\n",
    "            \n",
    "        out._backward = _backward\n",
    "        \n",
    "        return out\n",
    "    \n",
    "    def backward(self):\n",
    "        \n",
    "        topo = []\n",
    "        visited = set()\n",
    "        def build_topo(v):\n",
    "            if v not in visited:\n",
    "                visited.add(v)\n",
    "                for child in v._prev:\n",
    "                    build_topo(child)\n",
    "                topo.append(v)\n",
    "        build_topo(self)\n",
    "        \n",
    "        self.grad = 1.0\n",
    "        for node in reversed(topo):\n",
    "            node._backward()\n",
    "            \n",
    "            \n",
    "    \n",
    "    def __neg__(self): # -self\n",
    "        return self * -1\n",
    "\n",
    "    def __radd__(self, other): # other + self\n",
    "        return self + other\n",
    "\n",
    "    def __sub__(self, other): # self - other\n",
    "        return self + (-other)\n",
    "\n",
    "    def __rsub__(self, other): # other - self\n",
    "        return other + (-self)\n",
    "\n",
    "    def __rmul__(self, other): # other * self\n",
    "        return self * other\n",
    "\n",
    "    def __truediv__(self, other): # self / other\n",
    "        return self * other**-1\n",
    "\n",
    "    def __rtruediv__(self, other): # other / self\n",
    "        return other * self**-1\n",
    "\n",
    "    def __repr__(self):\n",
    "        return f\"Value(data={self.data}, grad={self.grad})\"\n",
    "    "
   ]
  },
  {
   "cell_type": "code",
   "execution_count": 4,
   "id": "122b1792",
   "metadata": {},
   "outputs": [
    {
     "data": {
      "text/plain": [
       "Value(data=4.0, grad=0.0)"
      ]
     },
     "execution_count": 4,
     "metadata": {},
     "output_type": "execute_result"
    }
   ],
   "source": [
    "a = Value(2.0)\n",
    "a * 2"
   ]
  },
  {
   "cell_type": "code",
   "execution_count": 5,
   "id": "522ab108",
   "metadata": {},
   "outputs": [],
   "source": [
    "from graphviz import Digraph\n",
    "\n",
    "def trace(root):\n",
    "    nodes, edges = set(), set()\n",
    "    def build(v):\n",
    "        if v not in nodes:\n",
    "            nodes.add(v)\n",
    "            for child in v._prev:\n",
    "                edges.add((child, v))\n",
    "                build(child)\n",
    "    build(root)\n",
    "    return nodes, edges\n",
    "\n",
    "def draw_dot(root, format='svg', rankdir='LR'):\n",
    "    \"\"\"\n",
    "    format: png | svg | ...\n",
    "    rankdir: TB (top to bottom graph) | LR (left to right)\n",
    "    \"\"\"\n",
    "    assert rankdir in ['LR', 'TB']\n",
    "    nodes, edges = trace(root)\n",
    "    dot = Digraph(format=format, graph_attr={'rankdir': rankdir}) #, node_attr={'rankdir': 'TB'})\n",
    "    \n",
    "    for n in nodes:\n",
    "        dot.node(name=str(id(n)), label = \"{ %s | data %.4f | grad %.4f }\" % (n.label, n.data, n.grad), shape='record')\n",
    "        if n._op:\n",
    "            dot.node(name=str(id(n)) + n._op, label=n._op)\n",
    "            dot.edge(str(id(n)) + n._op, str(id(n)))\n",
    "    \n",
    "    for n1, n2 in edges:\n",
    "        dot.edge(str(id(n1)), str(id(n2)) + n2._op)\n",
    "    \n",
    "    return dot"
   ]
  },
  {
   "cell_type": "code",
   "execution_count": 6,
   "id": "31c46845",
   "metadata": {},
   "outputs": [],
   "source": [
    "# inputs x1,x2\n",
    "x1 = Value(2.0, label='x1')\n",
    "x2 = Value(0.0, label='x2')\n",
    "# weights w1,w2\n",
    "w1 = Value(-3.0, label='w1')\n",
    "w2 = Value(1.0, label='w2')\n",
    "# bias of the neurons\n",
    "b = Value(6.8813735070195432, label='b')\n",
    "# x1*w1 + x2w2 + b\n",
    "x1w1 = x1 * w1; x1w1.label = 'x1*w1'\n",
    "x2w2 = x2 * w2; x2w2.label = 'x2*w2'\n",
    "x1w1x2w2 = x1w1 + x2w2; x1w1x2w2.label = 'x1w1 + x2w2'\n",
    "n = x1w1x2w2 + b; n.label = 'n'\n",
    "o = n.tanh(); o.label = 'o'"
   ]
  },
  {
   "cell_type": "code",
   "execution_count": 7,
   "id": "3b36ea60",
   "metadata": {
    "scrolled": true
   },
   "outputs": [
    {
     "data": {
      "image/svg+xml": "<?xml version=\"1.0\" encoding=\"UTF-8\" standalone=\"no\"?>\n<!DOCTYPE svg PUBLIC \"-//W3C//DTD SVG 1.1//EN\"\n \"http://www.w3.org/Graphics/SVG/1.1/DTD/svg11.dtd\">\n<!-- Generated by graphviz version 2.43.0 (0)\n -->\n<!-- Title: %3 Pages: 1 -->\n<svg width=\"1832pt\" height=\"210pt\"\n viewBox=\"0.00 0.00 1831.69 210.00\" xmlns=\"http://www.w3.org/2000/svg\" xmlns:xlink=\"http://www.w3.org/1999/xlink\">\n<g id=\"graph0\" class=\"graph\" transform=\"scale(1 1) rotate(0) translate(4 206)\">\n<title>%3</title>\n<polygon fill=\"white\" stroke=\"transparent\" points=\"-4,4 -4,-206 1827.69,-206 1827.69,4 -4,4\"/>\n<!-- 140571787119632 -->\n<g id=\"node1\" class=\"node\">\n<title>140571787119632</title>\n<polygon fill=\"none\" stroke=\"black\" points=\"1592.69,-109.5 1592.69,-145.5 1823.69,-145.5 1823.69,-109.5 1592.69,-109.5\"/>\n<text text-anchor=\"middle\" x=\"1605.19\" y=\"-123.8\" font-family=\"Times,serif\" font-size=\"14.00\">o</text>\n<polyline fill=\"none\" stroke=\"black\" points=\"1617.69,-109.5 1617.69,-145.5 \"/>\n<text text-anchor=\"middle\" x=\"1668.69\" y=\"-123.8\" font-family=\"Times,serif\" font-size=\"14.00\">data 0.7071</text>\n<polyline fill=\"none\" stroke=\"black\" points=\"1719.69,-109.5 1719.69,-145.5 \"/>\n<text text-anchor=\"middle\" x=\"1771.69\" y=\"-123.8\" font-family=\"Times,serif\" font-size=\"14.00\">grad 0.0000</text>\n</g>\n<!-- 140571787119632tanh -->\n<g id=\"node2\" class=\"node\">\n<title>140571787119632tanh</title>\n<ellipse fill=\"none\" stroke=\"black\" cx=\"1524.85\" cy=\"-127.5\" rx=\"31.7\" ry=\"18\"/>\n<text text-anchor=\"middle\" x=\"1524.85\" y=\"-123.8\" font-family=\"Times,serif\" font-size=\"14.00\">tanh</text>\n</g>\n<!-- 140571787119632tanh&#45;&gt;140571787119632 -->\n<g id=\"edge1\" class=\"edge\">\n<title>140571787119632tanh&#45;&gt;140571787119632</title>\n<path fill=\"none\" stroke=\"black\" d=\"M1557.02,-127.5C1564.61,-127.5 1573.19,-127.5 1582.31,-127.5\"/>\n<polygon fill=\"black\" stroke=\"black\" points=\"1582.4,-131 1592.4,-127.5 1582.4,-124 1582.4,-131\"/>\n</g>\n<!-- 140571787119248 -->\n<g id=\"node3\" class=\"node\">\n<title>140571787119248</title>\n<polygon fill=\"none\" stroke=\"black\" points=\"1225,-109.5 1225,-145.5 1457,-145.5 1457,-109.5 1225,-109.5\"/>\n<text text-anchor=\"middle\" x=\"1238\" y=\"-123.8\" font-family=\"Times,serif\" font-size=\"14.00\">n</text>\n<polyline fill=\"none\" stroke=\"black\" points=\"1251,-109.5 1251,-145.5 \"/>\n<text text-anchor=\"middle\" x=\"1302\" y=\"-123.8\" font-family=\"Times,serif\" font-size=\"14.00\">data 0.8814</text>\n<polyline fill=\"none\" stroke=\"black\" points=\"1353,-109.5 1353,-145.5 \"/>\n<text text-anchor=\"middle\" x=\"1405\" y=\"-123.8\" font-family=\"Times,serif\" font-size=\"14.00\">grad 0.0000</text>\n</g>\n<!-- 140571787119248&#45;&gt;140571787119632tanh -->\n<g id=\"edge7\" class=\"edge\">\n<title>140571787119248&#45;&gt;140571787119632tanh</title>\n<path fill=\"none\" stroke=\"black\" d=\"M1457.17,-127.5C1466.08,-127.5 1474.66,-127.5 1482.53,-127.5\"/>\n<polygon fill=\"black\" stroke=\"black\" points=\"1482.78,-131 1492.78,-127.5 1482.78,-124 1482.78,-131\"/>\n</g>\n<!-- 140571787119248+ -->\n<g id=\"node4\" class=\"node\">\n<title>140571787119248+</title>\n<ellipse fill=\"none\" stroke=\"black\" cx=\"1162\" cy=\"-127.5\" rx=\"27\" ry=\"18\"/>\n<text text-anchor=\"middle\" x=\"1162\" y=\"-123.8\" font-family=\"Times,serif\" font-size=\"14.00\">+</text>\n</g>\n<!-- 140571787119248+&#45;&gt;140571787119248 -->\n<g id=\"edge2\" class=\"edge\">\n<title>140571787119248+&#45;&gt;140571787119248</title>\n<path fill=\"none\" stroke=\"black\" d=\"M1189.12,-127.5C1196.53,-127.5 1205.14,-127.5 1214.4,-127.5\"/>\n<polygon fill=\"black\" stroke=\"black\" points=\"1214.69,-131 1224.69,-127.5 1214.69,-124 1214.69,-131\"/>\n</g>\n<!-- 140571787118768 -->\n<g id=\"node5\" class=\"node\">\n<title>140571787118768</title>\n<polygon fill=\"none\" stroke=\"black\" points=\"377.5,-110.5 377.5,-146.5 645.5,-146.5 645.5,-110.5 377.5,-110.5\"/>\n<text text-anchor=\"middle\" x=\"408.5\" y=\"-124.8\" font-family=\"Times,serif\" font-size=\"14.00\">x2*w2</text>\n<polyline fill=\"none\" stroke=\"black\" points=\"439.5,-110.5 439.5,-146.5 \"/>\n<text text-anchor=\"middle\" x=\"490.5\" y=\"-124.8\" font-family=\"Times,serif\" font-size=\"14.00\">data 0.0000</text>\n<polyline fill=\"none\" stroke=\"black\" points=\"541.5,-110.5 541.5,-146.5 \"/>\n<text text-anchor=\"middle\" x=\"593.5\" y=\"-124.8\" font-family=\"Times,serif\" font-size=\"14.00\">grad 0.0000</text>\n</g>\n<!-- 140571787119008+ -->\n<g id=\"node14\" class=\"node\">\n<title>140571787119008+</title>\n<ellipse fill=\"none\" stroke=\"black\" cx=\"711\" cy=\"-100.5\" rx=\"27\" ry=\"18\"/>\n<text text-anchor=\"middle\" x=\"711\" y=\"-96.8\" font-family=\"Times,serif\" font-size=\"14.00\">+</text>\n</g>\n<!-- 140571787118768&#45;&gt;140571787119008+ -->\n<g id=\"edge6\" class=\"edge\">\n<title>140571787118768&#45;&gt;140571787119008+</title>\n<path fill=\"none\" stroke=\"black\" d=\"M639.53,-110.49C652.09,-108.71 663.99,-107.02 674.3,-105.56\"/>\n<polygon fill=\"black\" stroke=\"black\" points=\"675.03,-108.99 684.44,-104.12 674.05,-102.06 675.03,-108.99\"/>\n</g>\n<!-- 140571787118768* -->\n<g id=\"node6\" class=\"node\">\n<title>140571787118768*</title>\n<ellipse fill=\"none\" stroke=\"black\" cx=\"312\" cy=\"-128.5\" rx=\"27\" ry=\"18\"/>\n<text text-anchor=\"middle\" x=\"312\" y=\"-124.8\" font-family=\"Times,serif\" font-size=\"14.00\">*</text>\n</g>\n<!-- 140571787118768*&#45;&gt;140571787118768 -->\n<g id=\"edge3\" class=\"edge\">\n<title>140571787118768*&#45;&gt;140571787118768</title>\n<path fill=\"none\" stroke=\"black\" d=\"M339.23,-128.5C347.26,-128.5 356.72,-128.5 366.99,-128.5\"/>\n<polygon fill=\"black\" stroke=\"black\" points=\"367.08,-132 377.08,-128.5 367.08,-125 367.08,-132\"/>\n</g>\n<!-- 140571787130048 -->\n<g id=\"node7\" class=\"node\">\n<title>140571787130048</title>\n<polygon fill=\"none\" stroke=\"black\" points=\"4.5,-165.5 4.5,-201.5 244.5,-201.5 244.5,-165.5 4.5,-165.5\"/>\n<text text-anchor=\"middle\" x=\"21.5\" y=\"-179.8\" font-family=\"Times,serif\" font-size=\"14.00\">x2</text>\n<polyline fill=\"none\" stroke=\"black\" points=\"38.5,-165.5 38.5,-201.5 \"/>\n<text text-anchor=\"middle\" x=\"89.5\" y=\"-179.8\" font-family=\"Times,serif\" font-size=\"14.00\">data 0.0000</text>\n<polyline fill=\"none\" stroke=\"black\" points=\"140.5,-165.5 140.5,-201.5 \"/>\n<text text-anchor=\"middle\" x=\"192.5\" y=\"-179.8\" font-family=\"Times,serif\" font-size=\"14.00\">grad 0.0000</text>\n</g>\n<!-- 140571787130048&#45;&gt;140571787118768* -->\n<g id=\"edge13\" class=\"edge\">\n<title>140571787130048&#45;&gt;140571787118768*</title>\n<path fill=\"none\" stroke=\"black\" d=\"M218.13,-165.46C228.63,-162.77 239.1,-159.78 249,-156.5 259.71,-152.96 271.05,-148.16 281.07,-143.54\"/>\n<polygon fill=\"black\" stroke=\"black\" points=\"282.67,-146.66 290.2,-139.21 279.67,-140.33 282.67,-146.66\"/>\n</g>\n<!-- 140571787127168 -->\n<g id=\"node8\" class=\"node\">\n<title>140571787127168</title>\n<polygon fill=\"none\" stroke=\"black\" points=\"4.5,-55.5 4.5,-91.5 244.5,-91.5 244.5,-55.5 4.5,-55.5\"/>\n<text text-anchor=\"middle\" x=\"21.5\" y=\"-69.8\" font-family=\"Times,serif\" font-size=\"14.00\">x1</text>\n<polyline fill=\"none\" stroke=\"black\" points=\"38.5,-55.5 38.5,-91.5 \"/>\n<text text-anchor=\"middle\" x=\"89.5\" y=\"-69.8\" font-family=\"Times,serif\" font-size=\"14.00\">data 2.0000</text>\n<polyline fill=\"none\" stroke=\"black\" points=\"140.5,-55.5 140.5,-91.5 \"/>\n<text text-anchor=\"middle\" x=\"192.5\" y=\"-69.8\" font-family=\"Times,serif\" font-size=\"14.00\">grad 0.0000</text>\n</g>\n<!-- 140571787123952* -->\n<g id=\"node10\" class=\"node\">\n<title>140571787123952*</title>\n<ellipse fill=\"none\" stroke=\"black\" cx=\"312\" cy=\"-73.5\" rx=\"27\" ry=\"18\"/>\n<text text-anchor=\"middle\" x=\"312\" y=\"-69.8\" font-family=\"Times,serif\" font-size=\"14.00\">*</text>\n</g>\n<!-- 140571787127168&#45;&gt;140571787123952* -->\n<g id=\"edge8\" class=\"edge\">\n<title>140571787127168&#45;&gt;140571787123952*</title>\n<path fill=\"none\" stroke=\"black\" d=\"M244.55,-73.5C255.31,-73.5 265.54,-73.5 274.62,-73.5\"/>\n<polygon fill=\"black\" stroke=\"black\" points=\"274.7,-77 284.7,-73.5 274.7,-70 274.7,-77\"/>\n</g>\n<!-- 140571787123952 -->\n<g id=\"node9\" class=\"node\">\n<title>140571787123952</title>\n<polygon fill=\"none\" stroke=\"black\" points=\"375,-55.5 375,-91.5 648,-91.5 648,-55.5 375,-55.5\"/>\n<text text-anchor=\"middle\" x=\"406\" y=\"-69.8\" font-family=\"Times,serif\" font-size=\"14.00\">x1*w1</text>\n<polyline fill=\"none\" stroke=\"black\" points=\"437,-55.5 437,-91.5 \"/>\n<text text-anchor=\"middle\" x=\"490.5\" y=\"-69.8\" font-family=\"Times,serif\" font-size=\"14.00\">data &#45;6.0000</text>\n<polyline fill=\"none\" stroke=\"black\" points=\"544,-55.5 544,-91.5 \"/>\n<text text-anchor=\"middle\" x=\"596\" y=\"-69.8\" font-family=\"Times,serif\" font-size=\"14.00\">grad 0.0000</text>\n</g>\n<!-- 140571787123952&#45;&gt;140571787119008+ -->\n<g id=\"edge14\" class=\"edge\">\n<title>140571787123952&#45;&gt;140571787119008+</title>\n<path fill=\"none\" stroke=\"black\" d=\"M644.24,-91.51C655.12,-93 665.4,-94.4 674.45,-95.64\"/>\n<polygon fill=\"black\" stroke=\"black\" points=\"674.11,-99.13 684.49,-97.01 675.05,-92.19 674.11,-99.13\"/>\n</g>\n<!-- 140571787123952*&#45;&gt;140571787123952 -->\n<g id=\"edge4\" class=\"edge\">\n<title>140571787123952*&#45;&gt;140571787123952</title>\n<path fill=\"none\" stroke=\"black\" d=\"M339.23,-73.5C346.7,-73.5 355.41,-73.5 364.87,-73.5\"/>\n<polygon fill=\"black\" stroke=\"black\" points=\"364.98,-77 374.98,-73.5 364.98,-70 364.98,-77\"/>\n</g>\n<!-- 140571787128608 -->\n<g id=\"node11\" class=\"node\">\n<title>140571787128608</title>\n<polygon fill=\"none\" stroke=\"black\" points=\"0,-0.5 0,-36.5 249,-36.5 249,-0.5 0,-0.5\"/>\n<text text-anchor=\"middle\" x=\"19\" y=\"-14.8\" font-family=\"Times,serif\" font-size=\"14.00\">w1</text>\n<polyline fill=\"none\" stroke=\"black\" points=\"38,-0.5 38,-36.5 \"/>\n<text text-anchor=\"middle\" x=\"91.5\" y=\"-14.8\" font-family=\"Times,serif\" font-size=\"14.00\">data &#45;3.0000</text>\n<polyline fill=\"none\" stroke=\"black\" points=\"145,-0.5 145,-36.5 \"/>\n<text text-anchor=\"middle\" x=\"197\" y=\"-14.8\" font-family=\"Times,serif\" font-size=\"14.00\">grad 0.0000</text>\n</g>\n<!-- 140571787128608&#45;&gt;140571787123952* -->\n<g id=\"edge10\" class=\"edge\">\n<title>140571787128608&#45;&gt;140571787123952*</title>\n<path fill=\"none\" stroke=\"black\" d=\"M214.42,-36.55C226.15,-39.54 237.93,-42.87 249,-46.5 259.46,-49.93 270.57,-54.47 280.46,-58.84\"/>\n<polygon fill=\"black\" stroke=\"black\" points=\"279.31,-62.17 289.87,-63.12 282.21,-55.79 279.31,-62.17\"/>\n</g>\n<!-- 140571787130240 -->\n<g id=\"node12\" class=\"node\">\n<title>140571787130240</title>\n<polygon fill=\"none\" stroke=\"black\" points=\"820.5,-137.5 820.5,-173.5 1052.5,-173.5 1052.5,-137.5 820.5,-137.5\"/>\n<text text-anchor=\"middle\" x=\"833.5\" y=\"-151.8\" font-family=\"Times,serif\" font-size=\"14.00\">b</text>\n<polyline fill=\"none\" stroke=\"black\" points=\"846.5,-137.5 846.5,-173.5 \"/>\n<text text-anchor=\"middle\" x=\"897.5\" y=\"-151.8\" font-family=\"Times,serif\" font-size=\"14.00\">data 6.8814</text>\n<polyline fill=\"none\" stroke=\"black\" points=\"948.5,-137.5 948.5,-173.5 \"/>\n<text text-anchor=\"middle\" x=\"1000.5\" y=\"-151.8\" font-family=\"Times,serif\" font-size=\"14.00\">grad 0.0000</text>\n</g>\n<!-- 140571787130240&#45;&gt;140571787119248+ -->\n<g id=\"edge11\" class=\"edge\">\n<title>140571787130240&#45;&gt;140571787119248+</title>\n<path fill=\"none\" stroke=\"black\" d=\"M1052.52,-141.09C1079,-137.77 1105.23,-134.49 1125.26,-131.98\"/>\n<polygon fill=\"black\" stroke=\"black\" points=\"1125.94,-135.42 1135.43,-130.7 1125.07,-128.47 1125.94,-135.42\"/>\n</g>\n<!-- 140571787119008 -->\n<g id=\"node13\" class=\"node\">\n<title>140571787119008</title>\n<polygon fill=\"none\" stroke=\"black\" points=\"774,-82.5 774,-118.5 1099,-118.5 1099,-82.5 774,-82.5\"/>\n<text text-anchor=\"middle\" x=\"831\" y=\"-96.8\" font-family=\"Times,serif\" font-size=\"14.00\">x1w1 + x2w2</text>\n<polyline fill=\"none\" stroke=\"black\" points=\"888,-82.5 888,-118.5 \"/>\n<text text-anchor=\"middle\" x=\"941.5\" y=\"-96.8\" font-family=\"Times,serif\" font-size=\"14.00\">data &#45;6.0000</text>\n<polyline fill=\"none\" stroke=\"black\" points=\"995,-82.5 995,-118.5 \"/>\n<text text-anchor=\"middle\" x=\"1047\" y=\"-96.8\" font-family=\"Times,serif\" font-size=\"14.00\">grad 0.0000</text>\n</g>\n<!-- 140571787119008&#45;&gt;140571787119248+ -->\n<g id=\"edge9\" class=\"edge\">\n<title>140571787119008&#45;&gt;140571787119248+</title>\n<path fill=\"none\" stroke=\"black\" d=\"M1086.58,-118.51C1100.66,-120.21 1113.84,-121.8 1125.09,-123.16\"/>\n<polygon fill=\"black\" stroke=\"black\" points=\"1124.89,-126.66 1135.24,-124.39 1125.73,-119.71 1124.89,-126.66\"/>\n</g>\n<!-- 140571787119008+&#45;&gt;140571787119008 -->\n<g id=\"edge5\" class=\"edge\">\n<title>140571787119008+&#45;&gt;140571787119008</title>\n<path fill=\"none\" stroke=\"black\" d=\"M738.08,-100.5C745.51,-100.5 754.21,-100.5 763.74,-100.5\"/>\n<polygon fill=\"black\" stroke=\"black\" points=\"763.95,-104 773.95,-100.5 763.95,-97 763.95,-104\"/>\n</g>\n<!-- 140571787127216 -->\n<g id=\"node15\" class=\"node\">\n<title>140571787127216</title>\n<polygon fill=\"none\" stroke=\"black\" points=\"2.5,-110.5 2.5,-146.5 246.5,-146.5 246.5,-110.5 2.5,-110.5\"/>\n<text text-anchor=\"middle\" x=\"21.5\" y=\"-124.8\" font-family=\"Times,serif\" font-size=\"14.00\">w2</text>\n<polyline fill=\"none\" stroke=\"black\" points=\"40.5,-110.5 40.5,-146.5 \"/>\n<text text-anchor=\"middle\" x=\"91.5\" y=\"-124.8\" font-family=\"Times,serif\" font-size=\"14.00\">data 1.0000</text>\n<polyline fill=\"none\" stroke=\"black\" points=\"142.5,-110.5 142.5,-146.5 \"/>\n<text text-anchor=\"middle\" x=\"194.5\" y=\"-124.8\" font-family=\"Times,serif\" font-size=\"14.00\">grad 0.0000</text>\n</g>\n<!-- 140571787127216&#45;&gt;140571787118768* -->\n<g id=\"edge12\" class=\"edge\">\n<title>140571787127216&#45;&gt;140571787118768*</title>\n<path fill=\"none\" stroke=\"black\" d=\"M246.64,-128.5C256.7,-128.5 266.26,-128.5 274.79,-128.5\"/>\n<polygon fill=\"black\" stroke=\"black\" points=\"275,-132 285,-128.5 275,-125 275,-132\"/>\n</g>\n</g>\n</svg>\n",
      "text/plain": [
       "<graphviz.graphs.Digraph at 0x7fd96b6fffa0>"
      ]
     },
     "execution_count": 7,
     "metadata": {},
     "output_type": "execute_result"
    }
   ],
   "source": [
    "draw_dot(o)"
   ]
  },
  {
   "cell_type": "code",
   "execution_count": 8,
   "id": "5f411a4e",
   "metadata": {},
   "outputs": [],
   "source": [
    "o.backward()"
   ]
  },
  {
   "cell_type": "code",
   "execution_count": 9,
   "id": "3605266b",
   "metadata": {},
   "outputs": [
    {
     "data": {
      "image/svg+xml": "<?xml version=\"1.0\" encoding=\"UTF-8\" standalone=\"no\"?>\n<!DOCTYPE svg PUBLIC \"-//W3C//DTD SVG 1.1//EN\"\n \"http://www.w3.org/Graphics/SVG/1.1/DTD/svg11.dtd\">\n<!-- Generated by graphviz version 2.43.0 (0)\n -->\n<!-- Title: %3 Pages: 1 -->\n<svg width=\"1832pt\" height=\"210pt\"\n viewBox=\"0.00 0.00 1831.69 210.00\" xmlns=\"http://www.w3.org/2000/svg\" xmlns:xlink=\"http://www.w3.org/1999/xlink\">\n<g id=\"graph0\" class=\"graph\" transform=\"scale(1 1) rotate(0) translate(4 206)\">\n<title>%3</title>\n<polygon fill=\"white\" stroke=\"transparent\" points=\"-4,4 -4,-206 1827.69,-206 1827.69,4 -4,4\"/>\n<!-- 140571787119632 -->\n<g id=\"node1\" class=\"node\">\n<title>140571787119632</title>\n<polygon fill=\"none\" stroke=\"black\" points=\"1592.69,-109.5 1592.69,-145.5 1823.69,-145.5 1823.69,-109.5 1592.69,-109.5\"/>\n<text text-anchor=\"middle\" x=\"1605.19\" y=\"-123.8\" font-family=\"Times,serif\" font-size=\"14.00\">o</text>\n<polyline fill=\"none\" stroke=\"black\" points=\"1617.69,-109.5 1617.69,-145.5 \"/>\n<text text-anchor=\"middle\" x=\"1668.69\" y=\"-123.8\" font-family=\"Times,serif\" font-size=\"14.00\">data 0.7071</text>\n<polyline fill=\"none\" stroke=\"black\" points=\"1719.69,-109.5 1719.69,-145.5 \"/>\n<text text-anchor=\"middle\" x=\"1771.69\" y=\"-123.8\" font-family=\"Times,serif\" font-size=\"14.00\">grad 1.0000</text>\n</g>\n<!-- 140571787119632tanh -->\n<g id=\"node2\" class=\"node\">\n<title>140571787119632tanh</title>\n<ellipse fill=\"none\" stroke=\"black\" cx=\"1524.85\" cy=\"-127.5\" rx=\"31.7\" ry=\"18\"/>\n<text text-anchor=\"middle\" x=\"1524.85\" y=\"-123.8\" font-family=\"Times,serif\" font-size=\"14.00\">tanh</text>\n</g>\n<!-- 140571787119632tanh&#45;&gt;140571787119632 -->\n<g id=\"edge1\" class=\"edge\">\n<title>140571787119632tanh&#45;&gt;140571787119632</title>\n<path fill=\"none\" stroke=\"black\" d=\"M1557.02,-127.5C1564.61,-127.5 1573.19,-127.5 1582.31,-127.5\"/>\n<polygon fill=\"black\" stroke=\"black\" points=\"1582.4,-131 1592.4,-127.5 1582.4,-124 1582.4,-131\"/>\n</g>\n<!-- 140571787119248 -->\n<g id=\"node3\" class=\"node\">\n<title>140571787119248</title>\n<polygon fill=\"none\" stroke=\"black\" points=\"1225,-109.5 1225,-145.5 1457,-145.5 1457,-109.5 1225,-109.5\"/>\n<text text-anchor=\"middle\" x=\"1238\" y=\"-123.8\" font-family=\"Times,serif\" font-size=\"14.00\">n</text>\n<polyline fill=\"none\" stroke=\"black\" points=\"1251,-109.5 1251,-145.5 \"/>\n<text text-anchor=\"middle\" x=\"1302\" y=\"-123.8\" font-family=\"Times,serif\" font-size=\"14.00\">data 0.8814</text>\n<polyline fill=\"none\" stroke=\"black\" points=\"1353,-109.5 1353,-145.5 \"/>\n<text text-anchor=\"middle\" x=\"1405\" y=\"-123.8\" font-family=\"Times,serif\" font-size=\"14.00\">grad 0.5000</text>\n</g>\n<!-- 140571787119248&#45;&gt;140571787119632tanh -->\n<g id=\"edge7\" class=\"edge\">\n<title>140571787119248&#45;&gt;140571787119632tanh</title>\n<path fill=\"none\" stroke=\"black\" d=\"M1457.17,-127.5C1466.08,-127.5 1474.66,-127.5 1482.53,-127.5\"/>\n<polygon fill=\"black\" stroke=\"black\" points=\"1482.78,-131 1492.78,-127.5 1482.78,-124 1482.78,-131\"/>\n</g>\n<!-- 140571787119248+ -->\n<g id=\"node4\" class=\"node\">\n<title>140571787119248+</title>\n<ellipse fill=\"none\" stroke=\"black\" cx=\"1162\" cy=\"-127.5\" rx=\"27\" ry=\"18\"/>\n<text text-anchor=\"middle\" x=\"1162\" y=\"-123.8\" font-family=\"Times,serif\" font-size=\"14.00\">+</text>\n</g>\n<!-- 140571787119248+&#45;&gt;140571787119248 -->\n<g id=\"edge2\" class=\"edge\">\n<title>140571787119248+&#45;&gt;140571787119248</title>\n<path fill=\"none\" stroke=\"black\" d=\"M1189.12,-127.5C1196.53,-127.5 1205.14,-127.5 1214.4,-127.5\"/>\n<polygon fill=\"black\" stroke=\"black\" points=\"1214.69,-131 1224.69,-127.5 1214.69,-124 1214.69,-131\"/>\n</g>\n<!-- 140571787118768 -->\n<g id=\"node5\" class=\"node\">\n<title>140571787118768</title>\n<polygon fill=\"none\" stroke=\"black\" points=\"377.5,-110.5 377.5,-146.5 645.5,-146.5 645.5,-110.5 377.5,-110.5\"/>\n<text text-anchor=\"middle\" x=\"408.5\" y=\"-124.8\" font-family=\"Times,serif\" font-size=\"14.00\">x2*w2</text>\n<polyline fill=\"none\" stroke=\"black\" points=\"439.5,-110.5 439.5,-146.5 \"/>\n<text text-anchor=\"middle\" x=\"490.5\" y=\"-124.8\" font-family=\"Times,serif\" font-size=\"14.00\">data 0.0000</text>\n<polyline fill=\"none\" stroke=\"black\" points=\"541.5,-110.5 541.5,-146.5 \"/>\n<text text-anchor=\"middle\" x=\"593.5\" y=\"-124.8\" font-family=\"Times,serif\" font-size=\"14.00\">grad 0.5000</text>\n</g>\n<!-- 140571787119008+ -->\n<g id=\"node14\" class=\"node\">\n<title>140571787119008+</title>\n<ellipse fill=\"none\" stroke=\"black\" cx=\"711\" cy=\"-100.5\" rx=\"27\" ry=\"18\"/>\n<text text-anchor=\"middle\" x=\"711\" y=\"-96.8\" font-family=\"Times,serif\" font-size=\"14.00\">+</text>\n</g>\n<!-- 140571787118768&#45;&gt;140571787119008+ -->\n<g id=\"edge6\" class=\"edge\">\n<title>140571787118768&#45;&gt;140571787119008+</title>\n<path fill=\"none\" stroke=\"black\" d=\"M639.53,-110.49C652.09,-108.71 663.99,-107.02 674.3,-105.56\"/>\n<polygon fill=\"black\" stroke=\"black\" points=\"675.03,-108.99 684.44,-104.12 674.05,-102.06 675.03,-108.99\"/>\n</g>\n<!-- 140571787118768* -->\n<g id=\"node6\" class=\"node\">\n<title>140571787118768*</title>\n<ellipse fill=\"none\" stroke=\"black\" cx=\"312\" cy=\"-128.5\" rx=\"27\" ry=\"18\"/>\n<text text-anchor=\"middle\" x=\"312\" y=\"-124.8\" font-family=\"Times,serif\" font-size=\"14.00\">*</text>\n</g>\n<!-- 140571787118768*&#45;&gt;140571787118768 -->\n<g id=\"edge3\" class=\"edge\">\n<title>140571787118768*&#45;&gt;140571787118768</title>\n<path fill=\"none\" stroke=\"black\" d=\"M339.23,-128.5C347.26,-128.5 356.72,-128.5 366.99,-128.5\"/>\n<polygon fill=\"black\" stroke=\"black\" points=\"367.08,-132 377.08,-128.5 367.08,-125 367.08,-132\"/>\n</g>\n<!-- 140571787130048 -->\n<g id=\"node7\" class=\"node\">\n<title>140571787130048</title>\n<polygon fill=\"none\" stroke=\"black\" points=\"4.5,-165.5 4.5,-201.5 244.5,-201.5 244.5,-165.5 4.5,-165.5\"/>\n<text text-anchor=\"middle\" x=\"21.5\" y=\"-179.8\" font-family=\"Times,serif\" font-size=\"14.00\">x2</text>\n<polyline fill=\"none\" stroke=\"black\" points=\"38.5,-165.5 38.5,-201.5 \"/>\n<text text-anchor=\"middle\" x=\"89.5\" y=\"-179.8\" font-family=\"Times,serif\" font-size=\"14.00\">data 0.0000</text>\n<polyline fill=\"none\" stroke=\"black\" points=\"140.5,-165.5 140.5,-201.5 \"/>\n<text text-anchor=\"middle\" x=\"192.5\" y=\"-179.8\" font-family=\"Times,serif\" font-size=\"14.00\">grad 0.5000</text>\n</g>\n<!-- 140571787130048&#45;&gt;140571787118768* -->\n<g id=\"edge13\" class=\"edge\">\n<title>140571787130048&#45;&gt;140571787118768*</title>\n<path fill=\"none\" stroke=\"black\" d=\"M218.13,-165.46C228.63,-162.77 239.1,-159.78 249,-156.5 259.71,-152.96 271.05,-148.16 281.07,-143.54\"/>\n<polygon fill=\"black\" stroke=\"black\" points=\"282.67,-146.66 290.2,-139.21 279.67,-140.33 282.67,-146.66\"/>\n</g>\n<!-- 140571787127168 -->\n<g id=\"node8\" class=\"node\">\n<title>140571787127168</title>\n<polygon fill=\"none\" stroke=\"black\" points=\"2.5,-55.5 2.5,-91.5 246.5,-91.5 246.5,-55.5 2.5,-55.5\"/>\n<text text-anchor=\"middle\" x=\"19.5\" y=\"-69.8\" font-family=\"Times,serif\" font-size=\"14.00\">x1</text>\n<polyline fill=\"none\" stroke=\"black\" points=\"36.5,-55.5 36.5,-91.5 \"/>\n<text text-anchor=\"middle\" x=\"87.5\" y=\"-69.8\" font-family=\"Times,serif\" font-size=\"14.00\">data 2.0000</text>\n<polyline fill=\"none\" stroke=\"black\" points=\"138.5,-55.5 138.5,-91.5 \"/>\n<text text-anchor=\"middle\" x=\"192.5\" y=\"-69.8\" font-family=\"Times,serif\" font-size=\"14.00\">grad &#45;1.5000</text>\n</g>\n<!-- 140571787123952* -->\n<g id=\"node10\" class=\"node\">\n<title>140571787123952*</title>\n<ellipse fill=\"none\" stroke=\"black\" cx=\"312\" cy=\"-73.5\" rx=\"27\" ry=\"18\"/>\n<text text-anchor=\"middle\" x=\"312\" y=\"-69.8\" font-family=\"Times,serif\" font-size=\"14.00\">*</text>\n</g>\n<!-- 140571787127168&#45;&gt;140571787123952* -->\n<g id=\"edge8\" class=\"edge\">\n<title>140571787127168&#45;&gt;140571787123952*</title>\n<path fill=\"none\" stroke=\"black\" d=\"M246.64,-73.5C256.7,-73.5 266.26,-73.5 274.79,-73.5\"/>\n<polygon fill=\"black\" stroke=\"black\" points=\"275,-77 285,-73.5 275,-70 275,-77\"/>\n</g>\n<!-- 140571787123952 -->\n<g id=\"node9\" class=\"node\">\n<title>140571787123952</title>\n<polygon fill=\"none\" stroke=\"black\" points=\"375,-55.5 375,-91.5 648,-91.5 648,-55.5 375,-55.5\"/>\n<text text-anchor=\"middle\" x=\"406\" y=\"-69.8\" font-family=\"Times,serif\" font-size=\"14.00\">x1*w1</text>\n<polyline fill=\"none\" stroke=\"black\" points=\"437,-55.5 437,-91.5 \"/>\n<text text-anchor=\"middle\" x=\"490.5\" y=\"-69.8\" font-family=\"Times,serif\" font-size=\"14.00\">data &#45;6.0000</text>\n<polyline fill=\"none\" stroke=\"black\" points=\"544,-55.5 544,-91.5 \"/>\n<text text-anchor=\"middle\" x=\"596\" y=\"-69.8\" font-family=\"Times,serif\" font-size=\"14.00\">grad 0.5000</text>\n</g>\n<!-- 140571787123952&#45;&gt;140571787119008+ -->\n<g id=\"edge14\" class=\"edge\">\n<title>140571787123952&#45;&gt;140571787119008+</title>\n<path fill=\"none\" stroke=\"black\" d=\"M644.24,-91.51C655.12,-93 665.4,-94.4 674.45,-95.64\"/>\n<polygon fill=\"black\" stroke=\"black\" points=\"674.11,-99.13 684.49,-97.01 675.05,-92.19 674.11,-99.13\"/>\n</g>\n<!-- 140571787123952*&#45;&gt;140571787123952 -->\n<g id=\"edge4\" class=\"edge\">\n<title>140571787123952*&#45;&gt;140571787123952</title>\n<path fill=\"none\" stroke=\"black\" d=\"M339.23,-73.5C346.7,-73.5 355.41,-73.5 364.87,-73.5\"/>\n<polygon fill=\"black\" stroke=\"black\" points=\"364.98,-77 374.98,-73.5 364.98,-70 364.98,-77\"/>\n</g>\n<!-- 140571787128608 -->\n<g id=\"node11\" class=\"node\">\n<title>140571787128608</title>\n<polygon fill=\"none\" stroke=\"black\" points=\"0,-0.5 0,-36.5 249,-36.5 249,-0.5 0,-0.5\"/>\n<text text-anchor=\"middle\" x=\"19\" y=\"-14.8\" font-family=\"Times,serif\" font-size=\"14.00\">w1</text>\n<polyline fill=\"none\" stroke=\"black\" points=\"38,-0.5 38,-36.5 \"/>\n<text text-anchor=\"middle\" x=\"91.5\" y=\"-14.8\" font-family=\"Times,serif\" font-size=\"14.00\">data &#45;3.0000</text>\n<polyline fill=\"none\" stroke=\"black\" points=\"145,-0.5 145,-36.5 \"/>\n<text text-anchor=\"middle\" x=\"197\" y=\"-14.8\" font-family=\"Times,serif\" font-size=\"14.00\">grad 1.0000</text>\n</g>\n<!-- 140571787128608&#45;&gt;140571787123952* -->\n<g id=\"edge10\" class=\"edge\">\n<title>140571787128608&#45;&gt;140571787123952*</title>\n<path fill=\"none\" stroke=\"black\" d=\"M214.42,-36.55C226.15,-39.54 237.93,-42.87 249,-46.5 259.46,-49.93 270.57,-54.47 280.46,-58.84\"/>\n<polygon fill=\"black\" stroke=\"black\" points=\"279.31,-62.17 289.87,-63.12 282.21,-55.79 279.31,-62.17\"/>\n</g>\n<!-- 140571787130240 -->\n<g id=\"node12\" class=\"node\">\n<title>140571787130240</title>\n<polygon fill=\"none\" stroke=\"black\" points=\"820.5,-137.5 820.5,-173.5 1052.5,-173.5 1052.5,-137.5 820.5,-137.5\"/>\n<text text-anchor=\"middle\" x=\"833.5\" y=\"-151.8\" font-family=\"Times,serif\" font-size=\"14.00\">b</text>\n<polyline fill=\"none\" stroke=\"black\" points=\"846.5,-137.5 846.5,-173.5 \"/>\n<text text-anchor=\"middle\" x=\"897.5\" y=\"-151.8\" font-family=\"Times,serif\" font-size=\"14.00\">data 6.8814</text>\n<polyline fill=\"none\" stroke=\"black\" points=\"948.5,-137.5 948.5,-173.5 \"/>\n<text text-anchor=\"middle\" x=\"1000.5\" y=\"-151.8\" font-family=\"Times,serif\" font-size=\"14.00\">grad 0.5000</text>\n</g>\n<!-- 140571787130240&#45;&gt;140571787119248+ -->\n<g id=\"edge11\" class=\"edge\">\n<title>140571787130240&#45;&gt;140571787119248+</title>\n<path fill=\"none\" stroke=\"black\" d=\"M1052.52,-141.09C1079,-137.77 1105.23,-134.49 1125.26,-131.98\"/>\n<polygon fill=\"black\" stroke=\"black\" points=\"1125.94,-135.42 1135.43,-130.7 1125.07,-128.47 1125.94,-135.42\"/>\n</g>\n<!-- 140571787119008 -->\n<g id=\"node13\" class=\"node\">\n<title>140571787119008</title>\n<polygon fill=\"none\" stroke=\"black\" points=\"774,-82.5 774,-118.5 1099,-118.5 1099,-82.5 774,-82.5\"/>\n<text text-anchor=\"middle\" x=\"831\" y=\"-96.8\" font-family=\"Times,serif\" font-size=\"14.00\">x1w1 + x2w2</text>\n<polyline fill=\"none\" stroke=\"black\" points=\"888,-82.5 888,-118.5 \"/>\n<text text-anchor=\"middle\" x=\"941.5\" y=\"-96.8\" font-family=\"Times,serif\" font-size=\"14.00\">data &#45;6.0000</text>\n<polyline fill=\"none\" stroke=\"black\" points=\"995,-82.5 995,-118.5 \"/>\n<text text-anchor=\"middle\" x=\"1047\" y=\"-96.8\" font-family=\"Times,serif\" font-size=\"14.00\">grad 0.5000</text>\n</g>\n<!-- 140571787119008&#45;&gt;140571787119248+ -->\n<g id=\"edge9\" class=\"edge\">\n<title>140571787119008&#45;&gt;140571787119248+</title>\n<path fill=\"none\" stroke=\"black\" d=\"M1086.58,-118.51C1100.66,-120.21 1113.84,-121.8 1125.09,-123.16\"/>\n<polygon fill=\"black\" stroke=\"black\" points=\"1124.89,-126.66 1135.24,-124.39 1125.73,-119.71 1124.89,-126.66\"/>\n</g>\n<!-- 140571787119008+&#45;&gt;140571787119008 -->\n<g id=\"edge5\" class=\"edge\">\n<title>140571787119008+&#45;&gt;140571787119008</title>\n<path fill=\"none\" stroke=\"black\" d=\"M738.08,-100.5C745.51,-100.5 754.21,-100.5 763.74,-100.5\"/>\n<polygon fill=\"black\" stroke=\"black\" points=\"763.95,-104 773.95,-100.5 763.95,-97 763.95,-104\"/>\n</g>\n<!-- 140571787127216 -->\n<g id=\"node15\" class=\"node\">\n<title>140571787127216</title>\n<polygon fill=\"none\" stroke=\"black\" points=\"2.5,-110.5 2.5,-146.5 246.5,-146.5 246.5,-110.5 2.5,-110.5\"/>\n<text text-anchor=\"middle\" x=\"21.5\" y=\"-124.8\" font-family=\"Times,serif\" font-size=\"14.00\">w2</text>\n<polyline fill=\"none\" stroke=\"black\" points=\"40.5,-110.5 40.5,-146.5 \"/>\n<text text-anchor=\"middle\" x=\"91.5\" y=\"-124.8\" font-family=\"Times,serif\" font-size=\"14.00\">data 1.0000</text>\n<polyline fill=\"none\" stroke=\"black\" points=\"142.5,-110.5 142.5,-146.5 \"/>\n<text text-anchor=\"middle\" x=\"194.5\" y=\"-124.8\" font-family=\"Times,serif\" font-size=\"14.00\">grad 0.0000</text>\n</g>\n<!-- 140571787127216&#45;&gt;140571787118768* -->\n<g id=\"edge12\" class=\"edge\">\n<title>140571787127216&#45;&gt;140571787118768*</title>\n<path fill=\"none\" stroke=\"black\" d=\"M246.64,-128.5C256.7,-128.5 266.26,-128.5 274.79,-128.5\"/>\n<polygon fill=\"black\" stroke=\"black\" points=\"275,-132 285,-128.5 275,-125 275,-132\"/>\n</g>\n</g>\n</svg>\n",
      "text/plain": [
       "<graphviz.graphs.Digraph at 0x7fd96b6ff610>"
      ]
     },
     "execution_count": 9,
     "metadata": {},
     "output_type": "execute_result"
    }
   ],
   "source": [
    "draw_dot(o)"
   ]
  },
  {
   "cell_type": "code",
   "execution_count": null,
   "id": "a79144d1",
   "metadata": {},
   "outputs": [],
   "source": []
  }
 ],
 "metadata": {
  "kernelspec": {
   "display_name": "Python 3 (ipykernel)",
   "language": "python",
   "name": "python3"
  },
  "language_info": {
   "codemirror_mode": {
    "name": "ipython",
    "version": 3
   },
   "file_extension": ".py",
   "mimetype": "text/x-python",
   "name": "python",
   "nbconvert_exporter": "python",
   "pygments_lexer": "ipython3",
   "version": "3.10.6"
  }
 },
 "nbformat": 4,
 "nbformat_minor": 5
}
